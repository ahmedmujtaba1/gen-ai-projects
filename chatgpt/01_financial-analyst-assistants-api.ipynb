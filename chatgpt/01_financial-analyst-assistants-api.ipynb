{
 "cells": [
  {
   "cell_type": "code",
   "execution_count": 3,
   "metadata": {},
   "outputs": [],
   "source": [
    "import os\n",
    "import json\n",
    "import requests\n",
    "from openai import OpenAI\n",
    "import time\n",
    "from dotenv import load_dotenv, find_dotenv\n",
    "\n",
    "_ : bool = load_dotenv(find_dotenv())\n",
    "fmp_key = os.environ['FMP_API_KEY']\n",
    "# print(fmp_key)\n",
    "\n",
    "client : OpenAI = OpenAI()"
   ]
  },
  {
   "cell_type": "code",
   "execution_count": 4,
   "metadata": {},
   "outputs": [],
   "source": [
    "# Define financial statement functions\n",
    "def get_income_statement(ticker, period, limit):\n",
    "    url = f\"https://financialmodelingprep.com/api/v3/income-statement/{ticker}?period={period}&limit={limit}&apikey={FMP_API_KEY}\"\n",
    "    response = requests.get(url)\n",
    "    return json.dumps(response.json())\n",
    "\n",
    "\n",
    "# Map available functions\n",
    "available_functions = {\n",
    "    \"get_income_statement\": get_income_statement,\n",
    "    # \"get_balance_sheet\": get_balance_sheet,\n",
    "    # \"get_cash_flow_statement\": get_cash_flow_statement,\n",
    "    # \"get_key_metrics\": get_key_metrics,\n",
    "    # \"get_financial_ratios\": get_cash_flow_statement,\n",
    "    # \"get_financial_growth\": get_financial_ratios\n",
    "}"
   ]
  },
  {
   "cell_type": "code",
   "execution_count": 5,
   "metadata": {},
   "outputs": [],
   "source": [
    "# Define the main function\n",
    "def run_assistant(user_message):\n",
    "\n",
    "  # Creating an assistant with specific instructions and tools\n",
    "  assistant = client.beta.assistants.create(\n",
    "      instructions=\"Act as a financial analyst by accessing detailed financial data through the Financial Modeling Prep API. Your capabilities include analyzing key metrics, comprehensive financial statements, vital financial ratios, and tracking financial growth trends. \",\n",
    "      model=\"gpt-4-1106-preview\",\n",
    "  tools=[\n",
    "            {\"type\": \"function\", \"function\": {\"name\": \"get_income_statement\", \"parameters\": {\"type\": \"object\", \"properties\": {\"ticker\": {\"type\": \"string\"}, \"period\": {\"type\": \"string\"}, \"limit\": {\"type\": \"integer\"}}}}},\n",
    "            # same for the rest of the financial functions\n",
    "          ])"
   ]
  },
  {
   "cell_type": "code",
   "execution_count": null,
   "metadata": {},
   "outputs": [],
   "source": []
  }
 ],
 "metadata": {
  "kernelspec": {
   "display_name": "myopenai",
   "language": "python",
   "name": "python3"
  },
  "language_info": {
   "codemirror_mode": {
    "name": "ipython",
    "version": 3
   },
   "file_extension": ".py",
   "mimetype": "text/x-python",
   "name": "python",
   "nbconvert_exporter": "python",
   "pygments_lexer": "ipython3",
   "version": "3.11.5"
  }
 },
 "nbformat": 4,
 "nbformat_minor": 2
}
